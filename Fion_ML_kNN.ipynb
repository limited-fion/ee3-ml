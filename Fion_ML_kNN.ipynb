{
  "cells": [
    {
      "cell_type": "markdown",
      "metadata": {
        "id": "view-in-github",
        "colab_type": "text"
      },
      "source": [
        "<a href=\"https://colab.research.google.com/github/limited-fion/ee3-ml/blob/main/Fion_ML_kNN.ipynb\" target=\"_parent\"><img src=\"https://colab.research.google.com/assets/colab-badge.svg\" alt=\"Open In Colab\"/></a>"
      ]
    },
    {
      "cell_type": "markdown",
      "id": "30b6fcf2",
      "metadata": {
        "id": "30b6fcf2"
      },
      "source": [
        "# k-nearest neighbour (k-NN)\n",
        "\n",
        "The k-nearest neighbour algorithm (k-NN) is a supervised machine learning algorithm, which can be used for both classification and regression. The core principle of this algorithm is that the label of a point can be deduced by considering nearby points with known labels. Specifically, the algorithm considers the k points which are nearest to the query point in the feature space. Several different distance measures can be used to identify the nearest neighbours, with common choices being the Euclidean or Hamming distance. Moreover, the value of k must be selected by the user. For instance, if we want to classify an unknown point (?) according to the two classes △ and □ as illustrated in the feature space of the figure below. If k is selected to be 1, the output of the unknown data sample will be simply assigned to the class of its nearest neighbour (in this case △ ). While if k is selected to be 3, the data sample will be labelled according to the dominant class in the range of 3 nearest neighbours (in this example it will be □). Several advantages can be observed in using this classifier such as not needing an explicit training step and the fact that information present in the training instances is never lost (because the instances themselves are stored explicitly). However, many disadvantages can be found in this classifier as well, such as the potentially high cost of classifying new targets. This is because nearly all the computation takes place at classification time rather than during a training process. A second disadvantage is that the entire training set must be considered during the classification process, which requires large memory capabilities. Finally, as we have seen, this classifier is highly biased by the value of k selected.\n",
        "\n",
        "![knn.gif](data:image/gif;base64,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)\n",
        "\n",
        "In this tutorial, we will investigate using k-NN classifier on the Iris-datset."
      ]
    },
    {
      "cell_type": "code",
      "source": [
        "import matplotlib as mpl\n",
        "import matplotlib.font_manager as fm\n",
        "from matplotlib import font_manager as fm, pyplot as plt\n",
        "\n",
        "!wget https://github.com/trishume/OpenTuringCompiler/blob/master/stdlib-sfml/fonts/Times%20New%20Roman.ttf\n",
        "!wget https://github.com/matomo-org/travis-scripts/blob/master/fonts/Arial.ttf \n",
        "\n",
        "font_files = fm.findSystemFonts()\n",
        "\n",
        "# Go through and add each to Matplotlib's font cache.\n",
        "for font_file in font_files:\n",
        "    fm.fontManager.addfont(font_file)\n",
        "\n",
        "fm.fontManager.ttflist += fm.createFontList(['Times New Roman.ttf'])\n",
        "\n",
        "# Use your new font on all your plots.\n",
        "plt.rc('font', family='serif')"
      ],
      "metadata": {
        "id": "_o5hRn2wE2GR",
        "outputId": "1d481548-2c3e-4a66-8e9d-59b8789adc24",
        "colab": {
          "base_uri": "https://localhost:8080/"
        }
      },
      "id": "_o5hRn2wE2GR",
      "execution_count": 1,
      "outputs": [
        {
          "output_type": "stream",
          "name": "stdout",
          "text": [
            "--2022-11-21 10:17:16--  https://github.com/trishume/OpenTuringCompiler/blob/master/stdlib-sfml/fonts/Times%20New%20Roman.ttf\n",
            "Resolving github.com (github.com)... 140.82.113.3\n",
            "Connecting to github.com (github.com)|140.82.113.3|:443... connected.\n",
            "HTTP request sent, awaiting response... 200 OK\n",
            "Length: unspecified [text/html]\n",
            "Saving to: ‘Times New Roman.ttf.1’\n",
            "\n",
            "Times New Roman.ttf     [ <=>                ] 138.55K  --.-KB/s    in 0.01s   \n",
            "\n",
            "2022-11-21 10:17:17 (13.0 MB/s) - ‘Times New Roman.ttf.1’ saved [141873]\n",
            "\n",
            "--2022-11-21 10:17:17--  https://github.com/matomo-org/travis-scripts/blob/master/fonts/Arial.ttf\n",
            "Resolving github.com (github.com)... 140.82.114.3\n",
            "Connecting to github.com (github.com)|140.82.114.3|:443... connected.\n",
            "HTTP request sent, awaiting response... 200 OK\n",
            "Length: unspecified [text/html]\n",
            "Saving to: ‘Arial.ttf.1’\n",
            "\n",
            "Arial.ttf.1             [ <=>                ] 139.55K  --.-KB/s    in 0.008s  \n",
            "\n",
            "2022-11-21 10:17:17 (16.4 MB/s) - ‘Arial.ttf.1’ saved [142899]\n",
            "\n"
          ]
        },
        {
          "output_type": "stream",
          "name": "stderr",
          "text": [
            "/usr/local/lib/python3.7/dist-packages/ipykernel_launcher.py:14: MatplotlibDeprecationWarning: \n",
            "The createFontList function was deprecated in Matplotlib 3.2 and will be removed two minor releases later. Use FontManager.addfont instead.\n",
            "  \n"
          ]
        }
      ]
    },
    {
      "cell_type": "code",
      "execution_count": 2,
      "id": "8b8f49b9",
      "metadata": {
        "id": "8b8f49b9"
      },
      "outputs": [],
      "source": [
        "import numpy as np\n",
        "import math\n",
        "from sklearn import preprocessing\n",
        "import matplotlib.colors as colors\n",
        "import matplotlib.pyplot as plt\n",
        "import pandas as pd\n",
        "from sklearn import datasets"
      ]
    },
    {
      "cell_type": "code",
      "execution_count": 3,
      "id": "9db05c52",
      "metadata": {
        "id": "9db05c52"
      },
      "outputs": [],
      "source": [
        "iris_data = datasets.load_iris()"
      ]
    },
    {
      "cell_type": "code",
      "execution_count": 4,
      "id": "f6a1b595",
      "metadata": {
        "id": "f6a1b595"
      },
      "outputs": [],
      "source": [
        "# Function to divide the data into training and testing\n",
        "\n",
        "import random\n",
        "random.seed(22)\n",
        "def separate_data():\n",
        "    train_A = iris_dataset[0:40]\n",
        "    test_A = iris_dataset[40:50]\n",
        "    train_B = iris_dataset[50:90]\n",
        "    test_B = iris_dataset[90:100]\n",
        "    train_C = iris_dataset[100:140]\n",
        "    test_C = iris_dataset[140:150]\n",
        "    train = np.concatenate((train_A,train_B,train_C))\n",
        "    test =  np.concatenate((test_A,test_B,test_C))\n",
        "    return train,test\n",
        "\n",
        "iris_dataset = np.column_stack((iris_data.data,iris_data.target.T)) #Join X and Y\n",
        "iris_dataset = list(iris_dataset)\n",
        "random.shuffle(iris_dataset)\n",
        "\n",
        "Filetrain, Filetest = separate_data()\n",
        "\n",
        "X_train = np.array([i[:4] for i in Filetrain])\n",
        "y_train = np.array([i[4] for i in Filetrain])\n",
        "X_test = np.array([i[:4] for i in Filetest])\n",
        "y_test = np.array([i[4] for i in Filetest])"
      ]
    },
    {
      "cell_type": "code",
      "execution_count": 5,
      "id": "06b3c2e0",
      "metadata": {
        "id": "06b3c2e0"
      },
      "outputs": [],
      "source": [
        "def distance(p1, p2):\n",
        "    squared_difference = 0.0\n",
        "    for i in range(len(p1)):\n",
        "        squared_difference += (p1[i] - p2[i])**2\n",
        "    final_distance = squared_difference ** 0.5\n",
        "    return final_distance"
      ]
    },
    {
      "cell_type": "code",
      "execution_count": 6,
      "id": "acc8422c",
      "metadata": {
        "id": "acc8422c"
      },
      "outputs": [],
      "source": [
        "def fit(test_sample, training_set, training_labels, k):\n",
        "    \n",
        "    distances = []\n",
        "    \n",
        "    # Computing the distances for all data points with respect to test sample     \n",
        "    \n",
        "    for i in range(len(training_set)):\n",
        "        distance_to_point = distance(test_sample, training_set[i])\n",
        "        distances.append([distance_to_point, training_set[i], training_labels[i]])\n",
        "    # sort the distances\n",
        "    distances.sort(key = lambda x : x[0])\n",
        "    \n",
        "    # Find the k nearest neighbours according to the distances\n",
        "    k_nearest_neighbours = distances[0:k]\n",
        "    \n",
        "    # Getting class with majority voting     \n",
        "    label_counts = {}\n",
        "    for i in range(0, k):\n",
        "        closest_label = k_nearest_neighbours[i][2]\n",
        "\n",
        "        if (closest_label in label_counts) == True:\n",
        "            label_counts[closest_label] += 1\n",
        "        else:\n",
        "            label_counts[closest_label] = 1\n",
        "       \n",
        "    labelCounts = list(label_counts.values())\n",
        "    classes = list(label_counts.keys())\n",
        "    y_pred = classes[labelCounts.index(max(labelCounts))]\n",
        "    \n",
        "    return (k_nearest_neighbours, y_pred)"
      ]
    },
    {
      "cell_type": "code",
      "execution_count": 7,
      "id": "fd35f32f",
      "metadata": {
        "id": "fd35f32f",
        "outputId": "a1bd8f3c-4fb3-4caa-d615-fec9b852e1f5",
        "colab": {
          "base_uri": "https://localhost:8080/"
        }
      },
      "outputs": [
        {
          "output_type": "stream",
          "name": "stdout",
          "text": [
            "Test sample predictions for k = 3 \t\n",
            "*********************************\n",
            "test sample: [5.1 3.8 1.9 0.4] \t predicted label: 0.0 \t true label: 0.0 \t Correctly classified\n",
            "test sample: [6.3 2.3 4.4 1.3] \t predicted label: 1.0 \t true label: 1.0 \t Correctly classified\n",
            "test sample: [6.5 3.  5.5 1.8] \t predicted label: 2.0 \t true label: 2.0 \t Correctly classified\n",
            "test sample: [6.7 2.5 5.8 1.8] \t predicted label: 2.0 \t true label: 2.0 \t Correctly classified\n",
            "test sample: [6.2 2.9 4.3 1.3] \t predicted label: 1.0 \t true label: 1.0 \t Correctly classified\n",
            "test sample: [7.2 3.2 6.  1.8] \t predicted label: 2.0 \t true label: 2.0 \t Correctly classified\n",
            "test sample: [4.4 2.9 1.4 0.2] \t predicted label: 0.0 \t true label: 0.0 \t Correctly classified\n",
            "test sample: [6.1 2.9 4.7 1.4] \t predicted label: 1.0 \t true label: 1.0 \t Correctly classified\n",
            "test sample: [7.1 3.  5.9 2.1] \t predicted label: 2.0 \t true label: 2.0 \t Correctly classified\n",
            "test sample: [4.7 3.2 1.3 0.2] \t predicted label: 0.0 \t true label: 0.0 \t Correctly classified\n",
            "test sample: [6.7 3.  5.2 2.3] \t predicted label: 2.0 \t true label: 2.0 \t Correctly classified\n",
            "test sample: [6.3 2.5 4.9 1.5] \t predicted label: 2.0 \t true label: 1.0 \t Misclassified\n",
            "test sample: [6.  2.2 5.  1.5] \t predicted label: 2.0 \t true label: 2.0 \t Correctly classified\n",
            "test sample: [7.9 3.8 6.4 2. ] \t predicted label: 2.0 \t true label: 2.0 \t Correctly classified\n",
            "test sample: [5.4 3.  4.5 1.5] \t predicted label: 1.0 \t true label: 1.0 \t Correctly classified\n",
            "test sample: [6.9 3.2 5.7 2.3] \t predicted label: 2.0 \t true label: 2.0 \t Correctly classified\n",
            "test sample: [6.9 3.1 4.9 1.5] \t predicted label: 1.0 \t true label: 1.0 \t Correctly classified\n",
            "test sample: [5.6 3.  4.5 1.5] \t predicted label: 1.0 \t true label: 1.0 \t Correctly classified\n",
            "test sample: [5.5 3.5 1.3 0.2] \t predicted label: 0.0 \t true label: 0.0 \t Correctly classified\n",
            "test sample: [5.6 2.9 3.6 1.3] \t predicted label: 1.0 \t true label: 1.0 \t Correctly classified\n",
            "test sample: [6.2 2.2 4.5 1.5] \t predicted label: 1.0 \t true label: 1.0 \t Correctly classified\n",
            "test sample: [5.2 2.7 3.9 1.4] \t predicted label: 1.0 \t true label: 1.0 \t Correctly classified\n",
            "test sample: [5.4 3.4 1.7 0.2] \t predicted label: 0.0 \t true label: 0.0 \t Correctly classified\n",
            "test sample: [5.6 3.  4.1 1.3] \t predicted label: 1.0 \t true label: 1.0 \t Correctly classified\n",
            "test sample: [4.8 3.1 1.6 0.2] \t predicted label: 0.0 \t true label: 0.0 \t Correctly classified\n",
            "test sample: [4.6 3.2 1.4 0.2] \t predicted label: 0.0 \t true label: 0.0 \t Correctly classified\n",
            "test sample: [5.8 2.8 5.1 2.4] \t predicted label: 2.0 \t true label: 2.0 \t Correctly classified\n",
            "test sample: [4.6 3.4 1.4 0.3] \t predicted label: 0.0 \t true label: 0.0 \t Correctly classified\n",
            "test sample: [6.  2.2 4.  1. ] \t predicted label: 1.0 \t true label: 1.0 \t Correctly classified\n",
            "test sample: [5.  3.2 1.2 0.2] \t predicted label: 0.0 \t true label: 0.0 \t Correctly classified\n"
          ]
        }
      ],
      "source": [
        "k = 3\n",
        "print(f'Test sample predictions for k = {k} \\t')\n",
        "print('*********************************')\n",
        "for i in range(len(X_test)):\n",
        "    neighbours, pred_label = fit(X_test[i], X_train, y_train, k)\n",
        "    if (pred_label == y_test[i]):\n",
        "        print(f'test sample: {X_test[i]} \\t', \n",
        "          f'predicted label: {pred_label} \\t', f'true label: {y_test[i]} \\t', \"Correctly classified\")\n",
        "    else:\n",
        "        \n",
        "        print(f'test sample: {X_test[i]} \\t', \n",
        "          f'predicted label: {pred_label} \\t', f'true label: {y_test[i]} \\t', \"Misclassified\")"
      ]
    },
    {
      "cell_type": "code",
      "execution_count": 8,
      "id": "7615b203",
      "metadata": {
        "id": "7615b203"
      },
      "outputs": [],
      "source": [
        "def accuracy(pred_label, true_label):\n",
        "    TP = 0\n",
        "    for i in range(len(pred_label)):\n",
        "        if(pred_label[i] == true_label[i]):\n",
        "            TP += 1\n",
        "    \n",
        "    accuracy = (TP / len(pred_label))\n",
        "    return accuracy"
      ]
    },
    {
      "cell_type": "code",
      "execution_count": 9,
      "id": "cfba8e83",
      "metadata": {
        "id": "cfba8e83",
        "outputId": "e4bd8fd9-cab1-4d7f-eb96-315148744dbc",
        "colab": {
          "base_uri": "https://localhost:8080/",
          "height": 553
        }
      },
      "outputs": [
        {
          "output_type": "stream",
          "name": "stdout",
          "text": [
            "For k = 1, Accuracy 93.33333333333333 %\n",
            "For k = 3, Accuracy 96.66666666666667 %\n",
            "For k = 5, Accuracy 96.66666666666667 %\n",
            "For k = 7, Accuracy 96.66666666666667 %\n",
            "For k = 9, Accuracy 96.66666666666667 %\n",
            "For k = 11, Accuracy 96.66666666666667 %\n",
            "For k = 13, Accuracy 100.0 %\n",
            "For k = 15, Accuracy 100.0 %\n",
            "For k = 17, Accuracy 96.66666666666667 %\n",
            "For k = 19, Accuracy 96.66666666666667 %\n",
            "For k = 21, Accuracy 96.66666666666667 %\n",
            "For k = 23, Accuracy 96.66666666666667 %\n",
            "For k = 25, Accuracy 96.66666666666667 %\n",
            "For k = 27, Accuracy 96.66666666666667 %\n",
            "For k = 29, Accuracy 96.66666666666667 %\n"
          ]
        },
        {
          "output_type": "display_data",
          "data": {
            "text/plain": [
              "<Figure size 432x288 with 1 Axes>"
            ],
            "image/png": "[encoded data removed]"
          },
          "metadata": {
            "needs_background": "light"
          }
        }
      ],
      "source": [
        "accuracy_list = []\n",
        "k_list = [1, 3, 5, 7, 9, 11, 13, 15, 17, 19, 21, 23, 25, 27, 29]\n",
        "\n",
        "for k in k_list:\n",
        "    y_pred = []\n",
        "    for test_instance in X_test:\n",
        "        neighbours, pred_label = fit(test_instance, X_train, y_train, k)\n",
        "        y_pred.append(pred_label)\n",
        "    acc = accuracy(y_pred, y_test)\n",
        "    print(\"For k = {}, Accuracy {} %\".format(k,acc*100))\n",
        "    \n",
        "    accuracy_list.append(acc)\n",
        "plt.plot(k_list, accuracy_list)  \n",
        "\n",
        "plt.xlabel('k')\n",
        "plt.ylabel('Accuracy')\n",
        "plt.title('k vs Accuracy')\n",
        "\n",
        "plt.show()"
      ]
    },
    {
      "cell_type": "code",
      "execution_count": 10,
      "id": "dd775c7b",
      "metadata": {
        "id": "dd775c7b"
      },
      "outputs": [],
      "source": [
        "from matplotlib.colors import ListedColormap\n",
        "h = .02  # step size in the mesh\n",
        "\n",
        "# Create color maps\n",
        "cmap_light = ListedColormap(['#FFAAAA', '#AAFFAA', '#AAAAFF'])\n",
        "cmap_bold = ListedColormap(['#FF0000', '#00FF00', '#0000FF'])\n",
        "\n",
        "def decision_boundary(k):\n",
        "    # For better data visulaisation we considered the first two features (petal length and sepal length) \n",
        "    # in the decision boundary plot.\n",
        "    X = np.concatenate((X_train, X_test))\n",
        "    X = X[:, :2]\n",
        "    y = np.concatenate((y_train, y_test))\n",
        "    \n",
        "    # Plot the decision boundary. For that, we will assign a color to each\n",
        "    # point in the mesh [x_min, x_max]x[y_min, y_max].\n",
        "    x_min, x_max = X[:, 0].min() - 1, X[:, 0].max() + 1\n",
        "    y_min, y_max = X[:, 1].min() - 1, X[:, 1].max() + 1\n",
        "    xx, yy = np.meshgrid(np.arange(x_min, x_max, h), np.arange(y_min, y_max, h))\n",
        "\n",
        "    Z = np.c_[xx.ravel(), yy.ravel()]\n",
        "\n",
        "    y_preds = []\n",
        "\n",
        "    for item in Z:\n",
        "        neighbours, pred_label = fit(item, X, y, k)\n",
        "        y_preds.append(pred_label)\n",
        "        \n",
        "     # Put the result into a color plot\n",
        "    y_preds = np.asarray(y_preds)\n",
        "    y_preds = y_preds.reshape(xx.shape)\n",
        "\n",
        "    plt.figure()\n",
        "    plt.pcolormesh(xx, yy, y_preds, cmap=cmap_light)\n",
        "    \n",
        "    # Plot also the training points\n",
        "    plt.scatter(X[:, 0], X[:, 1], c=y, cmap=cmap_bold)\n",
        "    plt.xlim(xx.min(), xx.max())\n",
        "    plt.ylim(yy.min(), yy.max())\n",
        "    plt.title(\"Decision boundary for k = {0}\".format(k))\n",
        "\n",
        "    plt.show()"
      ]
    },
    {
      "cell_type": "code",
      "execution_count": 11,
      "id": "0f3066cb",
      "metadata": {
        "scrolled": false,
        "id": "0f3066cb",
        "outputId": "7643fa2f-3571-43b9-c373-4ba648acb676",
        "colab": {
          "base_uri": "https://localhost:8080/",
          "height": 1000
        }
      },
      "outputs": [
        {
          "output_type": "display_data",
          "data": {
            "text/plain": [
              "<Figure size 432x288 with 1 Axes>"
            ],
            "image/png": "[encoded data removed]"
          },
          "metadata": {
            "needs_background": "light"
          }
        },
        {
          "output_type": "display_data",
          "data": {
            "text/plain": [
              "<Figure size 432x288 with 1 Axes>"
            ],
            "image/png": "[encoded data removed]"
          },
          "metadata": {
            "needs_background": "light"
          }
        },
        {
          "output_type": "display_data",
          "data": {
            "text/plain": [
              "<Figure size 432x288 with 1 Axes>"
            ],
            "image/png": "[encoded data removed]"
          },
          "metadata": {
            "needs_background": "light"
          }
        },
        {
          "output_type": "error",
          "ename": "KeyboardInterrupt",
          "evalue": "ignored",
          "traceback": [
            "\u001b[0;31m---------------------------------------------------------------------------\u001b[0m",
            "\u001b[0;31mKeyboardInterrupt\u001b[0m                         Traceback (most recent call last)",
            "\u001b[0;32m<ipython-input-11-fd2977b99923>\u001b[0m in \u001b[0;36m<module>\u001b[0;34m\u001b[0m\n\u001b[1;32m      1\u001b[0m \u001b[0;31m# This code may take several minutes to finish\u001b[0m\u001b[0;34m\u001b[0m\u001b[0;34m\u001b[0m\u001b[0;34m\u001b[0m\u001b[0m\n\u001b[1;32m      2\u001b[0m \u001b[0;32mfor\u001b[0m \u001b[0mk\u001b[0m \u001b[0;32min\u001b[0m \u001b[0mk_list\u001b[0m\u001b[0;34m:\u001b[0m\u001b[0;34m\u001b[0m\u001b[0;34m\u001b[0m\u001b[0m\n\u001b[0;32m----> 3\u001b[0;31m     \u001b[0mdecision_boundary\u001b[0m\u001b[0;34m(\u001b[0m\u001b[0mk\u001b[0m\u001b[0;34m)\u001b[0m\u001b[0;34m\u001b[0m\u001b[0;34m\u001b[0m\u001b[0m\n\u001b[0m",
            "\u001b[0;32m<ipython-input-10-63cbd52608f4>\u001b[0m in \u001b[0;36mdecision_boundary\u001b[0;34m(k)\u001b[0m\n\u001b[1;32m     24\u001b[0m \u001b[0;34m\u001b[0m\u001b[0m\n\u001b[1;32m     25\u001b[0m     \u001b[0;32mfor\u001b[0m \u001b[0mitem\u001b[0m \u001b[0;32min\u001b[0m \u001b[0mZ\u001b[0m\u001b[0;34m:\u001b[0m\u001b[0;34m\u001b[0m\u001b[0;34m\u001b[0m\u001b[0m\n\u001b[0;32m---> 26\u001b[0;31m         \u001b[0mneighbours\u001b[0m\u001b[0;34m,\u001b[0m \u001b[0mpred_label\u001b[0m \u001b[0;34m=\u001b[0m \u001b[0mfit\u001b[0m\u001b[0;34m(\u001b[0m\u001b[0mitem\u001b[0m\u001b[0;34m,\u001b[0m \u001b[0mX\u001b[0m\u001b[0;34m,\u001b[0m \u001b[0my\u001b[0m\u001b[0;34m,\u001b[0m \u001b[0mk\u001b[0m\u001b[0;34m)\u001b[0m\u001b[0;34m\u001b[0m\u001b[0;34m\u001b[0m\u001b[0m\n\u001b[0m\u001b[1;32m     27\u001b[0m         \u001b[0my_preds\u001b[0m\u001b[0;34m.\u001b[0m\u001b[0mappend\u001b[0m\u001b[0;34m(\u001b[0m\u001b[0mpred_label\u001b[0m\u001b[0;34m)\u001b[0m\u001b[0;34m\u001b[0m\u001b[0;34m\u001b[0m\u001b[0m\n\u001b[1;32m     28\u001b[0m \u001b[0;34m\u001b[0m\u001b[0m\n",
            "\u001b[0;32m<ipython-input-6-11d0b5372898>\u001b[0m in \u001b[0;36mfit\u001b[0;34m(test_sample, training_set, training_labels, k)\u001b[0m\n\u001b[1;32m      6\u001b[0m \u001b[0;34m\u001b[0m\u001b[0m\n\u001b[1;32m      7\u001b[0m     \u001b[0;32mfor\u001b[0m \u001b[0mi\u001b[0m \u001b[0;32min\u001b[0m \u001b[0mrange\u001b[0m\u001b[0;34m(\u001b[0m\u001b[0mlen\u001b[0m\u001b[0;34m(\u001b[0m\u001b[0mtraining_set\u001b[0m\u001b[0;34m)\u001b[0m\u001b[0;34m)\u001b[0m\u001b[0;34m:\u001b[0m\u001b[0;34m\u001b[0m\u001b[0;34m\u001b[0m\u001b[0m\n\u001b[0;32m----> 8\u001b[0;31m         \u001b[0mdistance_to_point\u001b[0m \u001b[0;34m=\u001b[0m \u001b[0mdistance\u001b[0m\u001b[0;34m(\u001b[0m\u001b[0mtest_sample\u001b[0m\u001b[0;34m,\u001b[0m \u001b[0mtraining_set\u001b[0m\u001b[0;34m[\u001b[0m\u001b[0mi\u001b[0m\u001b[0;34m]\u001b[0m\u001b[0;34m)\u001b[0m\u001b[0;34m\u001b[0m\u001b[0;34m\u001b[0m\u001b[0m\n\u001b[0m\u001b[1;32m      9\u001b[0m         \u001b[0mdistances\u001b[0m\u001b[0;34m.\u001b[0m\u001b[0mappend\u001b[0m\u001b[0;34m(\u001b[0m\u001b[0;34m[\u001b[0m\u001b[0mdistance_to_point\u001b[0m\u001b[0;34m,\u001b[0m \u001b[0mtraining_set\u001b[0m\u001b[0;34m[\u001b[0m\u001b[0mi\u001b[0m\u001b[0;34m]\u001b[0m\u001b[0;34m,\u001b[0m \u001b[0mtraining_labels\u001b[0m\u001b[0;34m[\u001b[0m\u001b[0mi\u001b[0m\u001b[0;34m]\u001b[0m\u001b[0;34m]\u001b[0m\u001b[0;34m)\u001b[0m\u001b[0;34m\u001b[0m\u001b[0;34m\u001b[0m\u001b[0m\n\u001b[1;32m     10\u001b[0m     \u001b[0;31m# sort the distances\u001b[0m\u001b[0;34m\u001b[0m\u001b[0;34m\u001b[0m\u001b[0;34m\u001b[0m\u001b[0m\n",
            "\u001b[0;32m<ipython-input-5-d14d86e5a4f3>\u001b[0m in \u001b[0;36mdistance\u001b[0;34m(p1, p2)\u001b[0m\n\u001b[1;32m      1\u001b[0m \u001b[0;32mdef\u001b[0m \u001b[0mdistance\u001b[0m\u001b[0;34m(\u001b[0m\u001b[0mp1\u001b[0m\u001b[0;34m,\u001b[0m \u001b[0mp2\u001b[0m\u001b[0;34m)\u001b[0m\u001b[0;34m:\u001b[0m\u001b[0;34m\u001b[0m\u001b[0;34m\u001b[0m\u001b[0m\n\u001b[1;32m      2\u001b[0m     \u001b[0msquared_difference\u001b[0m \u001b[0;34m=\u001b[0m \u001b[0;36m0.0\u001b[0m\u001b[0;34m\u001b[0m\u001b[0;34m\u001b[0m\u001b[0m\n\u001b[0;32m----> 3\u001b[0;31m     \u001b[0;32mfor\u001b[0m \u001b[0mi\u001b[0m \u001b[0;32min\u001b[0m \u001b[0mrange\u001b[0m\u001b[0;34m(\u001b[0m\u001b[0mlen\u001b[0m\u001b[0;34m(\u001b[0m\u001b[0mp1\u001b[0m\u001b[0;34m)\u001b[0m\u001b[0;34m)\u001b[0m\u001b[0;34m:\u001b[0m\u001b[0;34m\u001b[0m\u001b[0;34m\u001b[0m\u001b[0m\n\u001b[0m\u001b[1;32m      4\u001b[0m         \u001b[0msquared_difference\u001b[0m \u001b[0;34m+=\u001b[0m \u001b[0;34m(\u001b[0m\u001b[0mp1\u001b[0m\u001b[0;34m[\u001b[0m\u001b[0mi\u001b[0m\u001b[0;34m]\u001b[0m \u001b[0;34m-\u001b[0m \u001b[0mp2\u001b[0m\u001b[0;34m[\u001b[0m\u001b[0mi\u001b[0m\u001b[0;34m]\u001b[0m\u001b[0;34m)\u001b[0m\u001b[0;34m**\u001b[0m\u001b[0;36m2\u001b[0m\u001b[0;34m\u001b[0m\u001b[0;34m\u001b[0m\u001b[0m\n\u001b[1;32m      5\u001b[0m     \u001b[0mfinal_distance\u001b[0m \u001b[0;34m=\u001b[0m \u001b[0msquared_difference\u001b[0m \u001b[0;34m**\u001b[0m \u001b[0;36m0.5\u001b[0m\u001b[0;34m\u001b[0m\u001b[0;34m\u001b[0m\u001b[0m\n",
            "\u001b[0;31mKeyboardInterrupt\u001b[0m: "
          ]
        }
      ],
      "source": [
        "# This code may take several minutes to finish\n",
        "for k in k_list:\n",
        "    decision_boundary(k)"
      ]
    },
    {
      "cell_type": "markdown",
      "id": "da219de2",
      "metadata": {
        "id": "da219de2"
      },
      "source": [
        "# Coursework:"
      ]
    },
    {
      "cell_type": "markdown",
      "id": "14e957e3",
      "metadata": {
        "id": "14e957e3"
      },
      "source": [
        "## Task 1:\n",
        "\n",
        "In the previous exercise, Euclidean distance was used to measure the distance between test sample and its neighbours. Use Minkowski (use p value of 3) and Manhattan distances instead and observe the difference in results. In your report:\n",
        "\n",
        "- Include the codes you used in estimating Minkowski and Manhattan distances.\n",
        "- Use the same k values in the previous code for the new distances to get the accuracy.\n",
        "- Use a table to compare the accuracy for each distance measure and k value and include that in your report.\n",
        "- Discuss your results."
      ]
    },
    {
      "cell_type": "code",
      "source": [
        "def minkowski_distance(p1, p2):\n",
        "    p = 3\n",
        "    difference_p = 0.0\n",
        "    for i in range(len(p1)):\n",
        "        difference_p += np.abs(p1[i] - p2[i])**p\n",
        "    final_distance = difference_p ** (1/p)\n",
        "    return final_distance"
      ],
      "metadata": {
        "id": "f96Nt2XEFPbp"
      },
      "id": "f96Nt2XEFPbp",
      "execution_count": 11,
      "outputs": []
    },
    {
      "cell_type": "code",
      "source": [
        "def fit_minkowski_dist(test_sample, training_set, training_labels, k):\n",
        "    \n",
        "    distances = []\n",
        "    \n",
        "    # Computing the distances for all data points with respect to test sample     \n",
        "    \n",
        "    for i in range(len(training_set)):\n",
        "        distance_to_point = minkowski_distance(test_sample, training_set[i])\n",
        "        distances.append([distance_to_point, training_set[i], training_labels[i]])\n",
        "    # sort the distances\n",
        "    distances.sort(key = lambda x : x[0])\n",
        "    \n",
        "    # Find the k nearest neighbours according to the distances\n",
        "    k_nearest_neighbours = distances[0:k]\n",
        "    \n",
        "    # Getting class with majority voting     \n",
        "    label_counts = {}\n",
        "    for i in range(0, k):\n",
        "        closest_label = k_nearest_neighbours[i][2]\n",
        "\n",
        "        if (closest_label in label_counts) == True:\n",
        "            label_counts[closest_label] += 1\n",
        "        else:\n",
        "            label_counts[closest_label] = 1\n",
        "       \n",
        "    labelCounts = list(label_counts.values())\n",
        "    classes = list(label_counts.keys())\n",
        "    y_pred = classes[labelCounts.index(max(labelCounts))]\n",
        "    \n",
        "    return (k_nearest_neighbours, y_pred)"
      ],
      "metadata": {
        "id": "WlRzU1ozHwUX"
      },
      "id": "WlRzU1ozHwUX",
      "execution_count": 12,
      "outputs": []
    },
    {
      "cell_type": "code",
      "source": [
        "k = 3\n",
        "print(f'Test sample predictions for k = {k} \\t')\n",
        "print('*********************************')\n",
        "for i in range(len(X_test)):\n",
        "    neighbours, pred_label = fit_minkowski_dist(X_test[i], X_train, y_train, k)\n",
        "    if (pred_label == y_test[i]):\n",
        "        print(f'test sample: {X_test[i]} \\t', \n",
        "          f'predicted label: {pred_label} \\t', f'true label: {y_test[i]} \\t', \"Correctly classified\")\n",
        "    else:\n",
        "        \n",
        "        print(f'test sample: {X_test[i]} \\t', \n",
        "          f'predicted label: {pred_label} \\t', f'true label: {y_test[i]} \\t', \"Misclassified\")"
      ],
      "metadata": {
        "id": "YJq6nza9Hh6u",
        "outputId": "37e9e38a-4364-4b57-c641-0a55460c2535",
        "colab": {
          "base_uri": "https://localhost:8080/"
        }
      },
      "id": "YJq6nza9Hh6u",
      "execution_count": 13,
      "outputs": [
        {
          "output_type": "stream",
          "name": "stdout",
          "text": [
            "Test sample predictions for k = 3 \t\n",
            "*********************************\n",
            "test sample: [5.1 3.8 1.9 0.4] \t predicted label: 0.0 \t true label: 0.0 \t Correctly classified\n",
            "test sample: [6.3 2.3 4.4 1.3] \t predicted label: 1.0 \t true label: 1.0 \t Correctly classified\n",
            "test sample: [6.5 3.  5.5 1.8] \t predicted label: 2.0 \t true label: 2.0 \t Correctly classified\n",
            "test sample: [6.7 2.5 5.8 1.8] \t predicted label: 2.0 \t true label: 2.0 \t Correctly classified\n",
            "test sample: [6.2 2.9 4.3 1.3] \t predicted label: 1.0 \t true label: 1.0 \t Correctly classified\n",
            "test sample: [7.2 3.2 6.  1.8] \t predicted label: 2.0 \t true label: 2.0 \t Correctly classified\n",
            "test sample: [4.4 2.9 1.4 0.2] \t predicted label: 0.0 \t true label: 0.0 \t Correctly classified\n",
            "test sample: [6.1 2.9 4.7 1.4] \t predicted label: 1.0 \t true label: 1.0 \t Correctly classified\n",
            "test sample: [7.1 3.  5.9 2.1] \t predicted label: 2.0 \t true label: 2.0 \t Correctly classified\n",
            "test sample: [4.7 3.2 1.3 0.2] \t predicted label: 0.0 \t true label: 0.0 \t Correctly classified\n",
            "test sample: [6.7 3.  5.2 2.3] \t predicted label: 2.0 \t true label: 2.0 \t Correctly classified\n",
            "test sample: [6.3 2.5 4.9 1.5] \t predicted label: 2.0 \t true label: 1.0 \t Misclassified\n",
            "test sample: [6.  2.2 5.  1.5] \t predicted label: 2.0 \t true label: 2.0 \t Correctly classified\n",
            "test sample: [7.9 3.8 6.4 2. ] \t predicted label: 2.0 \t true label: 2.0 \t Correctly classified\n",
            "test sample: [5.4 3.  4.5 1.5] \t predicted label: 1.0 \t true label: 1.0 \t Correctly classified\n",
            "test sample: [6.9 3.2 5.7 2.3] \t predicted label: 2.0 \t true label: 2.0 \t Correctly classified\n",
            "test sample: [6.9 3.1 4.9 1.5] \t predicted label: 1.0 \t true label: 1.0 \t Correctly classified\n",
            "test sample: [5.6 3.  4.5 1.5] \t predicted label: 1.0 \t true label: 1.0 \t Correctly classified\n",
            "test sample: [5.5 3.5 1.3 0.2] \t predicted label: 0.0 \t true label: 0.0 \t Correctly classified\n",
            "test sample: [5.6 2.9 3.6 1.3] \t predicted label: 1.0 \t true label: 1.0 \t Correctly classified\n",
            "test sample: [6.2 2.2 4.5 1.5] \t predicted label: 2.0 \t true label: 1.0 \t Misclassified\n",
            "test sample: [5.2 2.7 3.9 1.4] \t predicted label: 1.0 \t true label: 1.0 \t Correctly classified\n",
            "test sample: [5.4 3.4 1.7 0.2] \t predicted label: 0.0 \t true label: 0.0 \t Correctly classified\n",
            "test sample: [5.6 3.  4.1 1.3] \t predicted label: 1.0 \t true label: 1.0 \t Correctly classified\n",
            "test sample: [4.8 3.1 1.6 0.2] \t predicted label: 0.0 \t true label: 0.0 \t Correctly classified\n",
            "test sample: [4.6 3.2 1.4 0.2] \t predicted label: 0.0 \t true label: 0.0 \t Correctly classified\n",
            "test sample: [5.8 2.8 5.1 2.4] \t predicted label: 2.0 \t true label: 2.0 \t Correctly classified\n",
            "test sample: [4.6 3.4 1.4 0.3] \t predicted label: 0.0 \t true label: 0.0 \t Correctly classified\n",
            "test sample: [6.  2.2 4.  1. ] \t predicted label: 1.0 \t true label: 1.0 \t Correctly classified\n",
            "test sample: [5.  3.2 1.2 0.2] \t predicted label: 0.0 \t true label: 0.0 \t Correctly classified\n"
          ]
        }
      ]
    },
    {
      "cell_type": "code",
      "source": [
        "accuracy_list = []\n",
        "k_list = [1, 3, 5, 7, 9, 11, 13, 15, 17, 19, 21, 23, 25, 27, 29]\n",
        "\n",
        "for k in k_list:\n",
        "    y_pred = []\n",
        "    for test_instance in X_test:\n",
        "        neighbours, pred_label = fit_minkowski_dist(test_instance, X_train, y_train, k)\n",
        "        y_pred.append(pred_label)\n",
        "    acc = accuracy(y_pred, y_test)\n",
        "    print(\"For k = {}, Accuracy {} %\".format(k,acc*100))\n",
        "    \n",
        "    accuracy_list.append(acc)\n",
        "plt.plot(k_list, accuracy_list)  \n",
        "\n",
        "plt.xlabel('k')\n",
        "plt.ylabel('Accuracy')\n",
        "plt.title('k vs Accuracy')\n",
        "\n",
        "plt.show()"
      ],
      "metadata": {
        "id": "uObY7bivID8g",
        "outputId": "d22b653c-1c18-4c6b-faff-bdb8d5d6fd3b",
        "colab": {
          "base_uri": "https://localhost:8080/",
          "height": 553
        }
      },
      "id": "uObY7bivID8g",
      "execution_count": 29,
      "outputs": [
        {
          "output_type": "stream",
          "name": "stdout",
          "text": [
            "For k = 1, Accuracy 93.33333333333333 %\n",
            "For k = 3, Accuracy 93.33333333333333 %\n",
            "For k = 5, Accuracy 93.33333333333333 %\n",
            "For k = 7, Accuracy 96.66666666666667 %\n",
            "For k = 9, Accuracy 96.66666666666667 %\n",
            "For k = 11, Accuracy 100.0 %\n",
            "For k = 13, Accuracy 100.0 %\n",
            "For k = 15, Accuracy 100.0 %\n",
            "For k = 17, Accuracy 96.66666666666667 %\n",
            "For k = 19, Accuracy 96.66666666666667 %\n",
            "For k = 21, Accuracy 96.66666666666667 %\n",
            "For k = 23, Accuracy 96.66666666666667 %\n",
            "For k = 25, Accuracy 96.66666666666667 %\n",
            "For k = 27, Accuracy 96.66666666666667 %\n",
            "For k = 29, Accuracy 96.66666666666667 %\n"
          ]
        },
        {
          "output_type": "display_data",
          "data": {
            "text/plain": [
              "<Figure size 432x288 with 1 Axes>"
            ],
            "image/png": "[encoded data removed]"
          },
          "metadata": {
            "needs_background": "light"
          }
        }
      ]
    },
    {
      "cell_type": "code",
      "source": [
        "def manhattan_distance(p1, p2):\n",
        "    difference = 0.0\n",
        "    for i in range(len(p1)):\n",
        "        difference += np.abs(p1[i] - p2[i])\n",
        "    final_distance = difference\n",
        "    return final_distance"
      ],
      "metadata": {
        "id": "509N-fXBILJ2"
      },
      "id": "509N-fXBILJ2",
      "execution_count": 15,
      "outputs": []
    },
    {
      "cell_type": "code",
      "source": [
        "def fit_manhattan_dist(test_sample, training_set, training_labels, k):\n",
        "    \n",
        "    distances = []\n",
        "    \n",
        "    # Computing the distances for all data points with respect to test sample     \n",
        "    \n",
        "    for i in range(len(training_set)):\n",
        "        distance_to_point = manhattan_distance(test_sample, training_set[i])\n",
        "        distances.append([distance_to_point, training_set[i], training_labels[i]])\n",
        "    # sort the distances\n",
        "    distances.sort(key = lambda x : x[0])\n",
        "    \n",
        "    # Find the k nearest neighbours according to the distances\n",
        "    k_nearest_neighbours = distances[0:k]\n",
        "    \n",
        "    # Getting class with majority voting     \n",
        "    label_counts = {}\n",
        "    for i in range(0, k):\n",
        "        closest_label = k_nearest_neighbours[i][2]\n",
        "\n",
        "        if (closest_label in label_counts) == True:\n",
        "            label_counts[closest_label] += 1\n",
        "        else:\n",
        "            label_counts[closest_label] = 1\n",
        "       \n",
        "    labelCounts = list(label_counts.values())\n",
        "    classes = list(label_counts.keys())\n",
        "    y_pred = classes[labelCounts.index(max(labelCounts))]\n",
        "    \n",
        "    return (k_nearest_neighbours, y_pred)"
      ],
      "metadata": {
        "id": "s_i_yvZxIooN"
      },
      "id": "s_i_yvZxIooN",
      "execution_count": 16,
      "outputs": []
    },
    {
      "cell_type": "code",
      "source": [
        "k = 3\n",
        "print(f'Test sample predictions for k = {k} \\t')\n",
        "print('*********************************')\n",
        "for i in range(len(X_test)):\n",
        "    neighbours, pred_label = fit_manhattan_dist(X_test[i], X_train, y_train, k)\n",
        "    if (pred_label == y_test[i]):\n",
        "        print(f'test sample: {X_test[i]} \\t', \n",
        "          f'predicted label: {pred_label} \\t', f'true label: {y_test[i]} \\t', \"Correctly classified\")\n",
        "    else:\n",
        "        \n",
        "        print(f'test sample: {X_test[i]} \\t', \n",
        "          f'predicted label: {pred_label} \\t', f'true label: {y_test[i]} \\t', \"Misclassified\")"
      ],
      "metadata": {
        "id": "SnBDGMJtIlF-",
        "outputId": "d85fa8b3-fc8c-46d5-eeeb-36a5c720a1a7",
        "colab": {
          "base_uri": "https://localhost:8080/"
        }
      },
      "id": "SnBDGMJtIlF-",
      "execution_count": 17,
      "outputs": [
        {
          "output_type": "stream",
          "name": "stdout",
          "text": [
            "Test sample predictions for k = 3 \t\n",
            "*********************************\n",
            "test sample: [5.1 3.8 1.9 0.4] \t predicted label: 0.0 \t true label: 0.0 \t Correctly classified\n",
            "test sample: [6.3 2.3 4.4 1.3] \t predicted label: 1.0 \t true label: 1.0 \t Correctly classified\n",
            "test sample: [6.5 3.  5.5 1.8] \t predicted label: 2.0 \t true label: 2.0 \t Correctly classified\n",
            "test sample: [6.7 2.5 5.8 1.8] \t predicted label: 2.0 \t true label: 2.0 \t Correctly classified\n",
            "test sample: [6.2 2.9 4.3 1.3] \t predicted label: 1.0 \t true label: 1.0 \t Correctly classified\n",
            "test sample: [7.2 3.2 6.  1.8] \t predicted label: 2.0 \t true label: 2.0 \t Correctly classified\n",
            "test sample: [4.4 2.9 1.4 0.2] \t predicted label: 0.0 \t true label: 0.0 \t Correctly classified\n",
            "test sample: [6.1 2.9 4.7 1.4] \t predicted label: 1.0 \t true label: 1.0 \t Correctly classified\n",
            "test sample: [7.1 3.  5.9 2.1] \t predicted label: 2.0 \t true label: 2.0 \t Correctly classified\n",
            "test sample: [4.7 3.2 1.3 0.2] \t predicted label: 0.0 \t true label: 0.0 \t Correctly classified\n",
            "test sample: [6.7 3.  5.2 2.3] \t predicted label: 2.0 \t true label: 2.0 \t Correctly classified\n",
            "test sample: [6.3 2.5 4.9 1.5] \t predicted label: 2.0 \t true label: 1.0 \t Misclassified\n",
            "test sample: [6.  2.2 5.  1.5] \t predicted label: 2.0 \t true label: 2.0 \t Correctly classified\n",
            "test sample: [7.9 3.8 6.4 2. ] \t predicted label: 2.0 \t true label: 2.0 \t Correctly classified\n",
            "test sample: [5.4 3.  4.5 1.5] \t predicted label: 1.0 \t true label: 1.0 \t Correctly classified\n",
            "test sample: [6.9 3.2 5.7 2.3] \t predicted label: 2.0 \t true label: 2.0 \t Correctly classified\n",
            "test sample: [6.9 3.1 4.9 1.5] \t predicted label: 1.0 \t true label: 1.0 \t Correctly classified\n",
            "test sample: [5.6 3.  4.5 1.5] \t predicted label: 1.0 \t true label: 1.0 \t Correctly classified\n",
            "test sample: [5.5 3.5 1.3 0.2] \t predicted label: 0.0 \t true label: 0.0 \t Correctly classified\n",
            "test sample: [5.6 2.9 3.6 1.3] \t predicted label: 1.0 \t true label: 1.0 \t Correctly classified\n",
            "test sample: [6.2 2.2 4.5 1.5] \t predicted label: 1.0 \t true label: 1.0 \t Correctly classified\n",
            "test sample: [5.2 2.7 3.9 1.4] \t predicted label: 1.0 \t true label: 1.0 \t Correctly classified\n",
            "test sample: [5.4 3.4 1.7 0.2] \t predicted label: 0.0 \t true label: 0.0 \t Correctly classified\n",
            "test sample: [5.6 3.  4.1 1.3] \t predicted label: 1.0 \t true label: 1.0 \t Correctly classified\n",
            "test sample: [4.8 3.1 1.6 0.2] \t predicted label: 0.0 \t true label: 0.0 \t Correctly classified\n",
            "test sample: [4.6 3.2 1.4 0.2] \t predicted label: 0.0 \t true label: 0.0 \t Correctly classified\n",
            "test sample: [5.8 2.8 5.1 2.4] \t predicted label: 2.0 \t true label: 2.0 \t Correctly classified\n",
            "test sample: [4.6 3.4 1.4 0.3] \t predicted label: 0.0 \t true label: 0.0 \t Correctly classified\n",
            "test sample: [6.  2.2 4.  1. ] \t predicted label: 1.0 \t true label: 1.0 \t Correctly classified\n",
            "test sample: [5.  3.2 1.2 0.2] \t predicted label: 0.0 \t true label: 0.0 \t Correctly classified\n"
          ]
        }
      ]
    },
    {
      "cell_type": "code",
      "source": [
        "accuracy_list = []\n",
        "k_list = [1, 3, 5, 7, 9, 11, 13, 15, 17, 19, 21, 23, 25, 27, 29]\n",
        "\n",
        "for k in k_list:\n",
        "    y_pred = []\n",
        "    for test_instance in X_test:\n",
        "        neighbours, pred_label = fit_manhattan_dist(test_instance, X_train, y_train, k)\n",
        "        y_pred.append(pred_label)\n",
        "    acc = accuracy(y_pred, y_test)\n",
        "    print(\"For k = {}, Accuracy {} %\".format(k,acc*100))\n",
        "    \n",
        "    accuracy_list.append(acc)\n",
        "plt.plot(k_list, accuracy_list)  \n",
        "\n",
        "plt.xlabel('k')\n",
        "plt.ylabel('Accuracy')\n",
        "plt.title('k vs Accuracy')\n",
        "\n",
        "plt.show()"
      ],
      "metadata": {
        "id": "jru81sWIIv2G",
        "outputId": "dccb97ec-2457-4b3a-dc72-8e93e272df94",
        "colab": {
          "base_uri": "https://localhost:8080/",
          "height": 553
        }
      },
      "id": "jru81sWIIv2G",
      "execution_count": 30,
      "outputs": [
        {
          "output_type": "stream",
          "name": "stdout",
          "text": [
            "For k = 1, Accuracy 93.33333333333333 %\n",
            "For k = 3, Accuracy 96.66666666666667 %\n",
            "For k = 5, Accuracy 96.66666666666667 %\n",
            "For k = 7, Accuracy 96.66666666666667 %\n",
            "For k = 9, Accuracy 96.66666666666667 %\n",
            "For k = 11, Accuracy 96.66666666666667 %\n",
            "For k = 13, Accuracy 96.66666666666667 %\n",
            "For k = 15, Accuracy 96.66666666666667 %\n",
            "For k = 17, Accuracy 100.0 %\n",
            "For k = 19, Accuracy 100.0 %\n",
            "For k = 21, Accuracy 100.0 %\n",
            "For k = 23, Accuracy 96.66666666666667 %\n",
            "For k = 25, Accuracy 96.66666666666667 %\n",
            "For k = 27, Accuracy 96.66666666666667 %\n",
            "For k = 29, Accuracy 93.33333333333333 %\n"
          ]
        },
        {
          "output_type": "display_data",
          "data": {
            "text/plain": [
              "<Figure size 432x288 with 1 Axes>"
            ],
            "image/png": "[encoded data removed]"
          },
          "metadata": {
            "needs_background": "light"
          }
        }
      ]
    },
    {
      "cell_type": "markdown",
      "id": "f92bd2ab",
      "metadata": {
        "id": "f92bd2ab"
      },
      "source": [
        "## Task 2:\n",
        "\n",
        "Write a code using scikit-learn to do the same procedure in the tutorial and repeat Task 1 with scikitlearn. In your report:\n",
        "\n",
        "- Include your code.\n",
        "- Table for comparing the results as in Task 1.\n",
        "\n",
        "Useful links:\n",
        "\n",
        "- https://scikit-learn.org/stable/modules/generated/sklearn.neighbors.KNeighborsClassifier.html\n",
        "- https://scikit-learn.org/0.24/modules/generated/sklearn.neighbors.DistanceMetric.html"
      ]
    },
    {
      "cell_type": "code",
      "source": [
        "from sklearn.neighbors import DistanceMetric\n",
        "from sklearn.neighbors import KNeighborsClassifier\n",
        "\n",
        "dist = DistanceMetric.get_metric('euclidean')\n",
        "\n",
        "for k in k_list:\n",
        "  neigh = KNeighborsClassifier(n_neighbors=k, metric='euclidean') \n",
        "  neigh.fit(X_train, y_train)\n",
        "  print(\"k = \", k, \"accuracy: \", neigh.score(X_test, y_test))"
      ],
      "metadata": {
        "id": "Ny3lEaweqqQl",
        "outputId": "38e36964-e513-4426-b3a5-ef248c768987",
        "colab": {
          "base_uri": "https://localhost:8080/"
        }
      },
      "id": "Ny3lEaweqqQl",
      "execution_count": 23,
      "outputs": [
        {
          "output_type": "stream",
          "name": "stdout",
          "text": [
            "k =  1 accuracy:  0.9333333333333333\n",
            "k =  3 accuracy:  0.9666666666666667\n",
            "k =  5 accuracy:  0.9666666666666667\n",
            "k =  7 accuracy:  0.9666666666666667\n",
            "k =  9 accuracy:  0.9666666666666667\n",
            "k =  11 accuracy:  0.9666666666666667\n",
            "k =  13 accuracy:  1.0\n",
            "k =  15 accuracy:  1.0\n",
            "k =  17 accuracy:  0.9666666666666667\n",
            "k =  19 accuracy:  0.9666666666666667\n",
            "k =  21 accuracy:  0.9666666666666667\n",
            "k =  23 accuracy:  0.9666666666666667\n",
            "k =  25 accuracy:  0.9666666666666667\n",
            "k =  27 accuracy:  0.9666666666666667\n",
            "k =  29 accuracy:  0.9666666666666667\n"
          ]
        },
        {
          "output_type": "stream",
          "name": "stderr",
          "text": [
            "/usr/local/lib/python3.7/dist-packages/sklearn/neighbors/_distance_metric.py:14: FutureWarning: sklearn.neighbors.DistanceMetric has been moved to sklearn.metrics.DistanceMetric in 1.0. This import path will be removed in 1.3\n",
            "  category=FutureWarning,\n"
          ]
        }
      ]
    },
    {
      "cell_type": "code",
      "source": [
        "dist = DistanceMetric.get_metric('minkowski')\n",
        "\n",
        "for k in k_list:\n",
        "  neigh = KNeighborsClassifier(n_neighbors=k, metric='minkowski', p=3)\n",
        "  neigh.fit(X_train, y_train)\n",
        "  print(\"k = \", k, \"accuracy: \", neigh.score(X_test, y_test))"
      ],
      "metadata": {
        "id": "db_D0wE-qtOk",
        "outputId": "fde57bb6-a700-4dcb-dc41-b25e60f7ed9b",
        "colab": {
          "base_uri": "https://localhost:8080/"
        }
      },
      "id": "db_D0wE-qtOk",
      "execution_count": 24,
      "outputs": [
        {
          "output_type": "stream",
          "name": "stdout",
          "text": [
            "k =  1 accuracy:  0.9333333333333333\n",
            "k =  3 accuracy:  0.9333333333333333\n",
            "k =  5 accuracy:  0.9333333333333333\n",
            "k =  7 accuracy:  0.9666666666666667\n",
            "k =  9 accuracy:  0.9666666666666667\n",
            "k =  11 accuracy:  1.0\n",
            "k =  13 accuracy:  1.0\n",
            "k =  15 accuracy:  1.0\n",
            "k =  17 accuracy:  0.9666666666666667\n",
            "k =  19 accuracy:  0.9666666666666667\n",
            "k =  21 accuracy:  0.9666666666666667\n",
            "k =  23 accuracy:  0.9666666666666667\n",
            "k =  25 accuracy:  0.9666666666666667\n",
            "k =  27 accuracy:  0.9666666666666667\n",
            "k =  29 accuracy:  0.9666666666666667\n"
          ]
        },
        {
          "output_type": "stream",
          "name": "stderr",
          "text": [
            "/usr/local/lib/python3.7/dist-packages/sklearn/neighbors/_distance_metric.py:14: FutureWarning: sklearn.neighbors.DistanceMetric has been moved to sklearn.metrics.DistanceMetric in 1.0. This import path will be removed in 1.3\n",
            "  category=FutureWarning,\n"
          ]
        }
      ]
    },
    {
      "cell_type": "code",
      "source": [
        "dist = DistanceMetric.get_metric('manhattan')\n",
        "\n",
        "for k in k_list:\n",
        "  neigh = KNeighborsClassifier(n_neighbors=3, metric='manhattan')\n",
        "  neigh.fit(X_train, y_train)\n",
        "  print(\"k = \", k, \"accuracy: \", neigh.score(X_test, y_test))"
      ],
      "metadata": {
        "id": "0cnQy_nEIz-t",
        "outputId": "a99b80ee-a35f-48c1-80a4-ea41d712a248",
        "colab": {
          "base_uri": "https://localhost:8080/"
        }
      },
      "id": "0cnQy_nEIz-t",
      "execution_count": 28,
      "outputs": [
        {
          "output_type": "stream",
          "name": "stdout",
          "text": [
            "k =  1 accuracy:  0.9666666666666667\n",
            "k =  3 accuracy:  0.9666666666666667\n"
          ]
        },
        {
          "output_type": "stream",
          "name": "stderr",
          "text": [
            "/usr/local/lib/python3.7/dist-packages/sklearn/neighbors/_distance_metric.py:14: FutureWarning: sklearn.neighbors.DistanceMetric has been moved to sklearn.metrics.DistanceMetric in 1.0. This import path will be removed in 1.3\n",
            "  category=FutureWarning,\n"
          ]
        }
      ]
    },
    {
      "cell_type": "markdown",
      "source": [
        "## Task 3:\n",
        "\n",
        "Consider the original code again of this tutorial using Eculidean distance. Seperate you training points into two equal subsets and repeat the steps on the tutorial for each subset. Report your observations in terms of the test accuray for the two subsets compared with the original data."
      ],
      "metadata": {
        "id": "Q1a2-Dc6vaj3"
      },
      "id": "Q1a2-Dc6vaj3"
    },
    {
      "cell_type": "code",
      "source": [],
      "metadata": {
        "id": "-PhcTqZxai1A"
      },
      "id": "-PhcTqZxai1A",
      "execution_count": null,
      "outputs": []
    }
  ],
  "metadata": {
    "kernelspec": {
      "display_name": "Python 3 (ipykernel)",
      "language": "python",
      "name": "python3"
    },
    "language_info": {
      "codemirror_mode": {
        "name": "ipython",
        "version": 3
      },
      "file_extension": ".py",
      "mimetype": "text/x-python",
      "name": "python",
      "nbconvert_exporter": "python",
      "pygments_lexer": "ipython3",
      "version": "3.9.12"
    },
    "vscode": {
      "interpreter": {
        "hash": "31f2aee4e71d21fbe5cf8b01ff0e069b9275f58929596ceb00d14d90e3e16cd6"
      }
    },
    "colab": {
      "provenance": [],
      "include_colab_link": true
    }
  },
  "nbformat": 4,
  "nbformat_minor": 5
}